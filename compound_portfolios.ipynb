{
 "cells": [
  {
   "cell_type": "code",
   "execution_count": 106,
   "id": "8ea3d656",
   "metadata": {
    "ExecuteTime": {
     "end_time": "2024-09-07T21:21:10.683286Z",
     "start_time": "2024-09-07T21:21:10.270019Z"
    },
    "scrolled": false
   },
   "outputs": [
    {
     "data": {
      "application/vnd.jupyter.widget-view+json": {
       "model_id": "751d288e9aa94cc3bde43a797772e89a",
       "version_major": 2,
       "version_minor": 0
      },
      "text/plain": [
       "VBox(children=(FloatSlider(value=1000000.0, description='Principal ($)', max=1000000.0, step=1000.0), IntSlide…"
      ]
     },
     "metadata": {},
     "output_type": "display_data"
    },
    {
     "data": {
      "application/vnd.jupyter.widget-view+json": {
       "model_id": "7a88778fbaff49698e2e727661e9db84",
       "version_major": 2,
       "version_minor": 0
      },
      "text/plain": [
       "Output()"
      ]
     },
     "metadata": {},
     "output_type": "display_data"
    }
   ],
   "source": [
    "import numpy as np\n",
    "import matplotlib.pyplot as plt\n",
    "import ipywidgets as widgets\n",
    "from IPython.display import display, clear_output\n",
    "\n",
    "# Define the compound interest function with additional annual savings\n",
    "def compound_interest_with_savings(principal, rate, times_per_year, years, annual_savings):\n",
    "    A = principal * (1 + rate / times_per_year) ** (times_per_year * years)\n",
    "    savings_future_value = (annual_savings * ((1 + rate / times_per_year) ** (times_per_year * years) - 1)) / (rate / times_per_year)\n",
    "    return A + savings_future_value\n",
    "\n",
    "# Update the graph\n",
    "def update_graph(principal, years, times_per_year, rate1, rate2, rate3, rate4, rate5, annual_savings):\n",
    "    x = np.arange(0, years + 1, 1)  # Array of years\n",
    "    \n",
    "    # Create a figure and axis\n",
    "    plt.figure(figsize=(16, 9))\n",
    "    \n",
    "    # Plot each rate separately\n",
    "    for rate, label in zip([rate1, rate2, rate3, rate4, rate5], ['Rate 1', 'Rate 2', 'Rate 3', 'Rate 4', 'Rate 5']):\n",
    "        y = [compound_interest_with_savings(principal, rate, times_per_year, year, annual_savings) for year in x]\n",
    "        y = np.array(y)/1e6 # convert to millions\n",
    "        line, = plt.plot(x, y, marker='o', label=f'{label}: {rate*100:.3f}%')\n",
    "        #line2, = plt.plot(10+x, y, marker='o', linestyle='dashed', label=f'{label}: {rate*100:.3f}%')\n",
    "        line_color = line.get_color()\n",
    "        #line2, = plt.plot(10+x, y, marker='o', linestyle='dashed', label=f'{label}: {rate*100:.3f}%',c=line_color)\n",
    "\n",
    "        plt.text(s=f'  {y[-1]:.3f}',x=x[-1], y=y[-1], ha='left', va='center', c=line_color)\n",
    "\n",
    "    # Customize the plot\n",
    "    plt.title('Compound Interest with Annual Savings Over Time')\n",
    "    plt.xlabel('Years')\n",
    "    plt.ylabel('Amount ($)')\n",
    "    plt.legend()\n",
    "    plt.ylim(0,8)\n",
    "    plt.xlim(0,40)\n",
    "    plt.grid(True)\n",
    "    \n",
    "    # Clear the output and display the new plot\n",
    "    clear_output(wait=True)\n",
    "    plt.show()\n",
    "\n",
    "# Creating the interactive widgets\n",
    "principal_slider = widgets.FloatSlider(value=1000000, min=0, max=1000000, step=1000, description='Principal ($)')\n",
    "years_slider = widgets.IntSlider(value=10, min=1, max=50, step=1, description='Years')\n",
    "times_per_year_slider = widgets.IntSlider(value=1, min=1, max=12, step=1, description='Times/Year')\n",
    "annual_savings_slider = widgets.FloatSlider(value=0, min=0, max=1000000, step=1000, description='Annual Savings ($)')\n",
    "\n",
    "# Sliders for multiple interest rates\n",
    "rate1_slider = widgets.FloatSlider(value=0.037, min=0.01, max=0.20, step=0.001, description='Portfolio 1 (%)')\n",
    "rate2_slider = widgets.FloatSlider(value=0.041, min=0.01, max=0.20, step=0.001, description='Portfolio 2 (%)')\n",
    "rate3_slider = widgets.FloatSlider(value=0.046, min=0.01, max=0.20, step=0.001, description='Portfolo 3 (%)')\n",
    "rate4_slider = widgets.FloatSlider(value=0.07, min=0.01, max=0.20, step=0.001, description='Rate 4 (%)')\n",
    "rate5_slider = widgets.FloatSlider(value=0.09, min=0.01, max=0.20, step=0.001, description='Rate 4 (%)')\n",
    "\n",
    "\n",
    "# Link sliders to the update function\n",
    "ui = widgets.VBox([principal_slider, years_slider, times_per_year_slider, annual_savings_slider, rate1_slider, rate2_slider, rate3_slider])\n",
    "\n",
    "out = widgets.interactive_output(update_graph, {\n",
    "    'principal': principal_slider,\n",
    "    'years': years_slider,\n",
    "    'times_per_year': times_per_year_slider,\n",
    "    'rate1': rate1_slider,\n",
    "    'rate2': rate2_slider,\n",
    "    'rate3': rate3_slider,\n",
    "    'rate4': rate4_slider,\n",
    "    'rate5': rate5_slider,\n",
    "    'annual_savings': annual_savings_slider\n",
    "})\n",
    "\n",
    "# Display the widgets and the output\n",
    "display(ui, out)\n"
   ]
  },
  {
   "cell_type": "code",
   "execution_count": null,
   "id": "9fe84b2a",
   "metadata": {
    "collapsed": true
   },
   "outputs": [],
   "source": []
  }
 ],
 "metadata": {
  "kernelspec": {
   "display_name": "geoph",
   "language": "python",
   "name": "geoph"
  },
  "language_info": {
   "codemirror_mode": {
    "name": "ipython",
    "version": 3
   },
   "file_extension": ".py",
   "mimetype": "text/x-python",
   "name": "python",
   "nbconvert_exporter": "python",
   "pygments_lexer": "ipython3",
   "version": "3.9.5"
  }
 },
 "nbformat": 4,
 "nbformat_minor": 5
}
